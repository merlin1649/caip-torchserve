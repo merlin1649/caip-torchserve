{
 "cells": [
  {
   "cell_type": "code",
   "execution_count": 77,
   "metadata": {},
   "outputs": [
    {
     "name": "stdout",
     "output_type": "stream",
     "text": [
      "env: MODEL_NAME=densenet161\n",
      "env: PROJECT_NAME=tsaikevin-inference\n",
      "env: ENDPOINT=https://alpha-ml.googleapis.com/v1\n"
     ]
    }
   ],
   "source": [
    "%env MODEL_NAME=densenet161\n",
    "%env PROJECT_NAME=tsaikevin-inference\n",
    "%env ENDPOINT=https://alpha-ml.googleapis.com/v1"
   ]
  },
  {
   "cell_type": "code",
   "execution_count": 2,
   "metadata": {},
   "outputs": [
    {
     "name": "stdout",
     "output_type": "stream",
     "text": [
      "Updated property [core/project].\n"
     ]
    }
   ],
   "source": [
    "!gcloud config set project tsaikevin-inference"
   ]
  },
  {
   "cell_type": "code",
   "execution_count": null,
   "metadata": {},
   "outputs": [],
   "source": [
    "!curl -X POST -v -k -H \"Content-Type: application/json\" -d \"{'name': '\"${MODEL_NAME}\"'}\" \\\n",
    "    -H \"Authorization: Bearer `gcloud auth print-access-token`\" \\\n",
    "    \"${ENDPOINT}/projects/${PROJECT_NAME}/models/\""
   ]
  },
  {
   "cell_type": "code",
   "execution_count": 116,
   "metadata": {},
   "outputs": [
    {
     "name": "stdout",
     "output_type": "stream",
     "text": [
      "env: VERSION_NAME=v005\n"
     ]
    }
   ],
   "source": [
    "%env VERSION_NAME=v005\n",
    "\n",
    "import json\n",
    "import os\n",
    "\n",
    "torchserve_version = {\n",
    "  \"name\": \"v005\",\n",
    "  \"deployment_uri\": \"gs://tsaikevin-inference-server-repository/torchserve\",\n",
    "  \"container\": {\n",
    "    \"image\": \"gcr.io/tsaikevin-inference/caip-torchserve:latest\",\n",
    "    \"args\": [\n",
    "    ],\n",
    "    \"env\": [\n",
    "    ], \n",
    "    \"ports\": [\n",
    "      { \"containerPort\": 8080 }\n",
    "    ]\n",
    "  },\n",
    "  \"routes\": {\n",
    "    \"predict\": \"/predictions/densenet161\",\n",
    "    \"health\": \"/ping\"\n",
    "  },\n",
    "  \"machine_type\": \"n1-standard-4\"\n",
    "}\n",
    "with open(\"torchserve_version.json\", \"w\") as f: \n",
    "  json.dump(torchserve_version, f)"
   ]
  },
  {
   "cell_type": "code",
   "execution_count": null,
   "metadata": {},
   "outputs": [],
   "source": [
    "!curl -X POST -v -k -H \"Content-Type: application/json\" -d @torchserve_version.json \\\n",
    "    -H \"Authorization: Bearer `gcloud auth print-access-token`\" \\\n",
    "    \"${ENDPOINT}/projects/${PROJECT_NAME}/models/${MODEL_NAME}/versions\""
   ]
  },
  {
   "cell_type": "code",
   "execution_count": 120,
   "metadata": {},
   "outputs": [
    {
     "name": "stdout",
     "output_type": "stream",
     "text": [
      "{\n",
      "  \"name\": \"projects/tsaikevin-inference/models/densenet161/versions/v005\",\n",
      "  \"isDefault\": true,\n",
      "  \"deploymentUri\": \"gs://tsaikevin-inference-server-repository/torchserve\",\n",
      "  \"createTime\": \"2020-05-28T09:52:03Z\",\n",
      "  \"state\": \"READY\",\n",
      "  \"etag\": \"vhi3slq/VM0=\",\n",
      "  \"machineType\": \"n1-standard-4\",\n",
      "  \"container\": {\n",
      "    \"image\": \"gcr.io/tsaikevin-inference/caip-torchserve:latest\",\n",
      "    \"ports\": [\n",
      "      {\n",
      "        \"containerPort\": 8080\n",
      "      }\n",
      "    ]\n",
      "  },\n",
      "  \"routes\": {\n",
      "    \"predict\": \"/predictions/densenet161\",\n",
      "    \"health\": \"/ping\"\n",
      "  }\n",
      "}\n"
     ]
    }
   ],
   "source": [
    "!curl -X GET -k -H \"Content-Type: application/json\" \\\n",
    "    -H \"Authorization: Bearer `gcloud auth print-access-token`\" \\\n",
    "    \"${ENDPOINT}/projects/${PROJECT_NAME}/models/${MODEL_NAME}/versions/${VERSION_NAME}\""
   ]
  },
  {
   "cell_type": "code",
   "execution_count": 121,
   "metadata": {},
   "outputs": [
    {
     "name": "stdout",
     "output_type": "stream",
     "text": [
      "  % Total    % Received % Xferd  Average Speed   Time    Time     Time  Current\n",
      "                                 Dload  Upload   Total   Spent    Left  Speed\n",
      "100  108k  100  108k    0     0   148k      0 --:--:-- --:--:-- --:--:--  148k\n"
     ]
    }
   ],
   "source": [
    "!curl -O https://s3.amazonaws.com/model-server/inputs/kitten.jpg"
   ]
  },
  {
   "cell_type": "code",
   "execution_count": 123,
   "metadata": {},
   "outputs": [
    {
     "name": "stdout",
     "output_type": "stream",
     "text": [
      "[\n",
      "  {\n",
      "    \"tiger_cat\": 0.46933549642562866\n",
      "  },\n",
      "  {\n",
      "    \"tabby\": 0.4633878469467163\n",
      "  },\n",
      "  {\n",
      "    \"Egyptian_cat\": 0.06456148624420166\n",
      "  },\n",
      "  {\n",
      "    \"lynx\": 0.0012828214094042778\n",
      "  },\n",
      "  {\n",
      "    \"plastic_bag\": 0.00023323034110944718\n",
      "  }\n",
      "]"
     ]
    }
   ],
   "source": [
    "!curl -X POST ${ENDPOINT}/projects/${PROJECT_NAME}/models/${MODEL_NAME}/versions/${VERSION_NAME}:predict \\\n",
    "    -k -H \"Content-Type: application/octet-stream\" \\\n",
    "    -H \"Authorization: Bearer `gcloud auth print-access-token`\" \\\n",
    "    --data-binary \"@kitten.jpg\""
   ]
  },
  {
   "cell_type": "code",
   "execution_count": null,
   "metadata": {},
   "outputs": [],
   "source": []
  }
 ],
 "metadata": {
  "kernelspec": {
   "display_name": "Python 3",
   "language": "python",
   "name": "python3"
  },
  "language_info": {
   "codemirror_mode": {
    "name": "ipython",
    "version": 3
   },
   "file_extension": ".py",
   "mimetype": "text/x-python",
   "name": "python",
   "nbconvert_exporter": "python",
   "pygments_lexer": "ipython3",
   "version": "3.7.4"
  }
 },
 "nbformat": 4,
 "nbformat_minor": 4
}
